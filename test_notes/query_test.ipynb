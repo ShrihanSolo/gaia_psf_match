{
 "cells": [
  {
   "cell_type": "code",
   "execution_count": 1,
   "metadata": {},
   "outputs": [],
   "source": [
    "from astropy.io import fits\n",
    "import pandas as pd\n",
    "from astropy.coordinates import SkyCoord\n",
    "import astropy.units as u\n",
    "import matplotlib.pyplot as plt\n",
    "import numpy as np\n",
    "from scipy.cluster.vq import vq, kmeans\n",
    "import scipy\n",
    "from astroquery.gaia import Gaia\n",
    "import os\n",
    "\n",
    "import match\n",
    "\n",
    "# Global Parameters\n",
    "BAND = 'i'\n",
    "PSF_DATA_FILEPATH = \"../../psf_data/psf_y3a1-v29.fits\"\n",
    "RESULTS_FILEPATH = \"../results/\"\n",
    "TOTAL_SUBSAMPLE_SIZE = 10000\n",
    "MATCH_LIM = 1 * u.arcsec\n",
    "INT_DATA_PATH = \"../../int_data/\""
   ]
  },
  {
   "cell_type": "code",
   "execution_count": 2,
   "metadata": {},
   "outputs": [
    {
     "name": "stdout",
     "output_type": "stream",
     "text": [
      "Starting DES Gaia Crossmatch for Band i.\n",
      "Data read in.\n"
     ]
    }
   ],
   "source": [
    "def read_des_fits(file_path, band, n = int(1e6)):\n",
    "    \"\"\"\n",
    "    Read in the DES fits file and return a pandas dataframe with ra, dec, mag and band columns.\n",
    "    Args: \n",
    "        file_path: path to the fits file\n",
    "        band: band to be read in\n",
    "        n: subsample of stars to be read in within specified band\n",
    "    Returns:\n",
    "        des: pandas dataframe with ra, dec, mag and band columns\n",
    "    \"\"\"\n",
    "    \n",
    "    # Read in the fits file and close it\n",
    "    hdul = fits.open(file_path)\n",
    "    \n",
    "    # hdul[1].data is a numpy recarray. Get the ra, dec, mag and band columns   \n",
    "    cols = ['ra', 'dec', 'mag', 'band']\n",
    "    zidx = np.random.choice(np.where(hdul[1].data['band'] == band)[0], size = n, replace = False)\n",
    "    data = {col: hdul[1].data[col][zidx] for col in cols}\n",
    "    hdul.close()\n",
    "\n",
    "    des = pd.DataFrame(data)\n",
    "    \n",
    "\n",
    "    # Combine ra and dec into a sky coord array\n",
    "    des['coord'] = SkyCoord(ra=des['ra'], dec=des['dec'], unit = 'deg')\n",
    "    return des\n",
    "\n",
    "print(\"Starting DES Gaia Crossmatch for Band \" + str(BAND) + \".\")\n",
    "\n",
    "# Read in DES Data\n",
    "des = read_des_fits(PSF_DATA_FILEPATH, BAND, n = TOTAL_SUBSAMPLE_SIZE)\n",
    "print(\"Data read in.\")"
   ]
  },
  {
   "cell_type": "code",
   "execution_count": 3,
   "metadata": {},
   "outputs": [],
   "source": [
    "# Load centroids array from int_data\n",
    "centroids = np.load(INT_DATA_PATH + \"centroids.npy\")"
   ]
  },
  {
   "cell_type": "code",
   "execution_count": 4,
   "metadata": {},
   "outputs": [
    {
     "name": "stdout",
     "output_type": "stream",
     "text": [
      "Stars clustered.\n"
     ]
    }
   ],
   "source": [
    "cluster_num_array, cluster_info = match.get_assignments(des, centroids)"
   ]
  },
  {
   "cell_type": "code",
   "execution_count": 6,
   "metadata": {},
   "outputs": [
    {
     "name": "stdout",
     "output_type": "stream",
     "text": [
      "R = 2.971 | \n",
      "    select top 1000000 ra, dec, phot_g_mean_mag, in_qso_candidates, in_galaxy_candidates, non_single_star, astrometric_excess_noise\n",
      "    FROM gaiadr3.gaia_source\n",
      "    WHERE 1 = CONTAINS(\n",
      "    POINT(40.61000072213061, -59.887512128635855),\n",
      "    CIRCLE(ra, dec, 2.970643848112104))\n",
      "    order by source_id\n",
      "    \n",
      "Queried. Saved.\n",
      "R = 3.253 | \n",
      "    select top 1000000 ra, dec, phot_g_mean_mag, in_qso_candidates, in_galaxy_candidates, non_single_star, astrometric_excess_noise\n",
      "    FROM gaiadr3.gaia_source\n",
      "    WHERE 1 = CONTAINS(\n",
      "    POINT(321.63726674557637, -43.23227424475044),\n",
      "    CIRCLE(ra, dec, 3.253305118428657))\n",
      "    order by source_id\n",
      "    \n"
     ]
    },
    {
     "name": "stderr",
     "output_type": "stream",
     "text": [
      "/home/shrihan/.conda/envs/weaklens2/lib/python3.10/site-packages/pyarrow/pandas_compat.py:373: FutureWarning: is_sparse is deprecated and will be removed in a future version. Check `isinstance(dtype, pd.SparseDtype)` instead.\n",
      "  if _pandas_api.is_sparse(col):\n"
     ]
    },
    {
     "name": "stdout",
     "output_type": "stream",
     "text": [
      "Queried. Saved.\n",
      "R = 2.167 | \n",
      "    select top 1000000 ra, dec, phot_g_mean_mag, in_qso_candidates, in_galaxy_candidates, non_single_star, astrometric_excess_noise\n",
      "    FROM gaiadr3.gaia_source\n",
      "    WHERE 1 = CONTAINS(\n",
      "    POINT(81.8946918115738, -25.22550347558047),\n",
      "    CIRCLE(ra, dec, 2.1674281096344767))\n",
      "    order by source_id\n",
      "    \n"
     ]
    },
    {
     "name": "stderr",
     "output_type": "stream",
     "text": [
      "/home/shrihan/.conda/envs/weaklens2/lib/python3.10/site-packages/pyarrow/pandas_compat.py:373: FutureWarning: is_sparse is deprecated and will be removed in a future version. Check `isinstance(dtype, pd.SparseDtype)` instead.\n",
      "  if _pandas_api.is_sparse(col):\n"
     ]
    },
    {
     "name": "stdout",
     "output_type": "stream",
     "text": [
      "Queried. Saved.\n"
     ]
    },
    {
     "name": "stderr",
     "output_type": "stream",
     "text": [
      "/home/shrihan/.conda/envs/weaklens2/lib/python3.10/site-packages/pyarrow/pandas_compat.py:373: FutureWarning: is_sparse is deprecated and will be removed in a future version. Check `isinstance(dtype, pd.SparseDtype)` instead.\n",
      "  if _pandas_api.is_sparse(col):\n"
     ]
    }
   ],
   "source": [
    "for cluster_num in range(3):\n",
    "    clust0_info = cluster_info.loc[cluster_num]\n",
    "    print(\"R = {:.3f}\".format(clust0_info[\"max_dist\"]), end = ' | ')\n",
    "    gaia0_tab = match.query_gaia_for_cluster(clust0_info[\"centroids\"][0], \n",
    "                                       clust0_info[\"centroids\"][1], \n",
    "                                       clust0_info[\"max_dist\"],\n",
    "                                       verbose=True)\n",
    "    print(\"Queried.\", end = ' ')\n",
    "    \n",
    "    # Save the gaia table in int_data\n",
    "    gaia0_tab.to_feather(INT_DATA_PATH + \"gaia/\" + \"gaia\" + str(cluster_num) + \".feather\")\n",
    "    print(\"Saved.\")"
   ]
  },
  {
   "cell_type": "code",
   "execution_count": 3,
   "metadata": {},
   "outputs": [
    {
     "data": {
      "text/html": [
       "<div>\n",
       "<style scoped>\n",
       "    .dataframe tbody tr th:only-of-type {\n",
       "        vertical-align: middle;\n",
       "    }\n",
       "\n",
       "    .dataframe tbody tr th {\n",
       "        vertical-align: top;\n",
       "    }\n",
       "\n",
       "    .dataframe thead th {\n",
       "        text-align: right;\n",
       "    }\n",
       "</style>\n",
       "<table border=\"1\" class=\"dataframe\">\n",
       "  <thead>\n",
       "    <tr style=\"text-align: right;\">\n",
       "      <th></th>\n",
       "      <th>ra</th>\n",
       "      <th>dec</th>\n",
       "      <th>in_qso_candidates</th>\n",
       "      <th>in_galaxy_candidates</th>\n",
       "      <th>non_single_star</th>\n",
       "      <th>is_star</th>\n",
       "    </tr>\n",
       "  </thead>\n",
       "  <tbody>\n",
       "    <tr>\n",
       "      <th>0</th>\n",
       "      <td>40.385375</td>\n",
       "      <td>-63.935587</td>\n",
       "      <td>False</td>\n",
       "      <td>False</td>\n",
       "      <td>0</td>\n",
       "      <td>True</td>\n",
       "    </tr>\n",
       "    <tr>\n",
       "      <th>1</th>\n",
       "      <td>40.379013</td>\n",
       "      <td>-63.933067</td>\n",
       "      <td>False</td>\n",
       "      <td>False</td>\n",
       "      <td>0</td>\n",
       "      <td>True</td>\n",
       "    </tr>\n",
       "    <tr>\n",
       "      <th>2</th>\n",
       "      <td>40.542765</td>\n",
       "      <td>-63.930190</td>\n",
       "      <td>False</td>\n",
       "      <td>False</td>\n",
       "      <td>0</td>\n",
       "      <td>True</td>\n",
       "    </tr>\n",
       "    <tr>\n",
       "      <th>3</th>\n",
       "      <td>40.537682</td>\n",
       "      <td>-63.934508</td>\n",
       "      <td>False</td>\n",
       "      <td>False</td>\n",
       "      <td>0</td>\n",
       "      <td>True</td>\n",
       "    </tr>\n",
       "    <tr>\n",
       "      <th>4</th>\n",
       "      <td>40.654792</td>\n",
       "      <td>-63.941125</td>\n",
       "      <td>False</td>\n",
       "      <td>False</td>\n",
       "      <td>0</td>\n",
       "      <td>True</td>\n",
       "    </tr>\n",
       "    <tr>\n",
       "      <th>...</th>\n",
       "      <td>...</td>\n",
       "      <td>...</td>\n",
       "      <td>...</td>\n",
       "      <td>...</td>\n",
       "      <td>...</td>\n",
       "      <td>...</td>\n",
       "    </tr>\n",
       "    <tr>\n",
       "      <th>234234</th>\n",
       "      <td>40.126497</td>\n",
       "      <td>-55.847247</td>\n",
       "      <td>False</td>\n",
       "      <td>False</td>\n",
       "      <td>0</td>\n",
       "      <td>True</td>\n",
       "    </tr>\n",
       "    <tr>\n",
       "      <th>234235</th>\n",
       "      <td>40.110284</td>\n",
       "      <td>-55.842860</td>\n",
       "      <td>True</td>\n",
       "      <td>False</td>\n",
       "      <td>0</td>\n",
       "      <td>True</td>\n",
       "    </tr>\n",
       "    <tr>\n",
       "      <th>234236</th>\n",
       "      <td>41.110041</td>\n",
       "      <td>-55.843370</td>\n",
       "      <td>False</td>\n",
       "      <td>False</td>\n",
       "      <td>0</td>\n",
       "      <td>True</td>\n",
       "    </tr>\n",
       "    <tr>\n",
       "      <th>234237</th>\n",
       "      <td>41.096716</td>\n",
       "      <td>-55.852361</td>\n",
       "      <td>False</td>\n",
       "      <td>False</td>\n",
       "      <td>0</td>\n",
       "      <td>True</td>\n",
       "    </tr>\n",
       "    <tr>\n",
       "      <th>234238</th>\n",
       "      <td>41.080534</td>\n",
       "      <td>-55.840918</td>\n",
       "      <td>False</td>\n",
       "      <td>False</td>\n",
       "      <td>0</td>\n",
       "      <td>True</td>\n",
       "    </tr>\n",
       "  </tbody>\n",
       "</table>\n",
       "<p>234239 rows × 6 columns</p>\n",
       "</div>"
      ],
      "text/plain": [
       "               ra        dec  in_qso_candidates  in_galaxy_candidates  \\\n",
       "0       40.385375 -63.935587              False                 False   \n",
       "1       40.379013 -63.933067              False                 False   \n",
       "2       40.542765 -63.930190              False                 False   \n",
       "3       40.537682 -63.934508              False                 False   \n",
       "4       40.654792 -63.941125              False                 False   \n",
       "...           ...        ...                ...                   ...   \n",
       "234234  40.126497 -55.847247              False                 False   \n",
       "234235  40.110284 -55.842860               True                 False   \n",
       "234236  41.110041 -55.843370              False                 False   \n",
       "234237  41.096716 -55.852361              False                 False   \n",
       "234238  41.080534 -55.840918              False                 False   \n",
       "\n",
       "        non_single_star  is_star  \n",
       "0                     0     True  \n",
       "1                     0     True  \n",
       "2                     0     True  \n",
       "3                     0     True  \n",
       "4                     0     True  \n",
       "...                 ...      ...  \n",
       "234234                0     True  \n",
       "234235                0     True  \n",
       "234236                0     True  \n",
       "234237                0     True  \n",
       "234238                0     True  \n",
       "\n",
       "[234239 rows x 6 columns]"
      ]
     },
     "execution_count": 3,
     "metadata": {},
     "output_type": "execute_result"
    }
   ],
   "source": [
    "import pandas as pd\n",
    "INT_DATA_PATH = \"../../int_data/\"\n",
    "pd.read_feather(INT_DATA_PATH + \"gaia/\" + \"gaia\" + str(0) + \".feather\")"
   ]
  },
  {
   "cell_type": "code",
   "execution_count": null,
   "metadata": {},
   "outputs": [],
   "source": []
  }
 ],
 "metadata": {
  "kernelspec": {
   "display_name": "weaklens2",
   "language": "python",
   "name": "python3"
  },
  "language_info": {
   "codemirror_mode": {
    "name": "ipython",
    "version": 3
   },
   "file_extension": ".py",
   "mimetype": "text/x-python",
   "name": "python",
   "nbconvert_exporter": "python",
   "pygments_lexer": "ipython3",
   "version": "3.10.13"
  }
 },
 "nbformat": 4,
 "nbformat_minor": 2
}
