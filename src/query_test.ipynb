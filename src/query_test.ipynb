{
 "cells": [
  {
   "cell_type": "code",
   "execution_count": 1,
   "metadata": {},
   "outputs": [],
   "source": [
    "from astropy.io import fits\n",
    "import pandas as pd\n",
    "from astropy.coordinates import SkyCoord\n",
    "import astropy.units as u\n",
    "import matplotlib.pyplot as plt\n",
    "import numpy as np\n",
    "from scipy.cluster.vq import vq, kmeans\n",
    "import scipy\n",
    "from astroquery.gaia import Gaia\n",
    "import os\n",
    "\n",
    "import match\n",
    "\n",
    "# Global Parameters\n",
    "BAND = 'i'\n",
    "PSF_DATA_FILEPATH = \"../../psf_data/psf_y3a1-v29.fits\"\n",
    "RESULTS_FILEPATH = \"../results/\"\n",
    "TOTAL_SUBSAMPLE_SIZE = 10000\n",
    "MATCH_LIM = 1 * u.arcsec\n",
    "INT_DATA_PATH = \"../../int_data/\""
   ]
  },
  {
   "cell_type": "code",
   "execution_count": 2,
   "metadata": {},
   "outputs": [
    {
     "name": "stdout",
     "output_type": "stream",
     "text": [
      "Starting DES Gaia Crossmatch for Band i.\n",
      "Data read in.\n"
     ]
    }
   ],
   "source": [
    "def read_des_fits(file_path, band, n = int(1e6)):\n",
    "    \"\"\"\n",
    "    Read in the DES fits file and return a pandas dataframe with ra, dec, mag and band columns.\n",
    "    Args: \n",
    "        file_path: path to the fits file\n",
    "        band: band to be read in\n",
    "        n: subsample of stars to be read in within specified band\n",
    "    Returns:\n",
    "        des: pandas dataframe with ra, dec, mag and band columns\n",
    "    \"\"\"\n",
    "    \n",
    "    # Read in the fits file and close it\n",
    "    hdul = fits.open(file_path)\n",
    "    \n",
    "    # hdul[1].data is a numpy recarray. Get the ra, dec, mag and band columns   \n",
    "    cols = ['ra', 'dec', 'mag', 'band']\n",
    "    zidx = np.random.choice(np.where(hdul[1].data['band'] == band)[0], size = n, replace = False)\n",
    "    data = {col: hdul[1].data[col][zidx] for col in cols}\n",
    "    hdul.close()\n",
    "\n",
    "    des = pd.DataFrame(data)\n",
    "    \n",
    "\n",
    "    # Combine ra and dec into a sky coord array\n",
    "    des['coord'] = SkyCoord(ra=des['ra'], dec=des['dec'], unit = 'deg')\n",
    "    return des\n",
    "\n",
    "print(\"Starting DES Gaia Crossmatch for Band \" + str(BAND) + \".\")\n",
    "\n",
    "# Read in DES Data\n",
    "des = read_des_fits(PSF_DATA_FILEPATH, BAND, n = TOTAL_SUBSAMPLE_SIZE)\n",
    "print(\"Data read in.\")"
   ]
  },
  {
   "cell_type": "code",
   "execution_count": 3,
   "metadata": {},
   "outputs": [],
   "source": [
    "# Load centroids array from int_data\n",
    "centroids = np.load(INT_DATA_PATH + \"centroids.npy\")"
   ]
  },
  {
   "cell_type": "code",
   "execution_count": 4,
   "metadata": {},
   "outputs": [
    {
     "name": "stdout",
     "output_type": "stream",
     "text": [
      "Stars clustered.\n"
     ]
    }
   ],
   "source": [
    "cluster_num_array, cluster_info = match.get_assignments(des, centroids)"
   ]
  },
  {
   "cell_type": "code",
   "execution_count": 6,
   "metadata": {},
   "outputs": [
    {
     "name": "stdout",
     "output_type": "stream",
     "text": [
      "R = 2.971 | \n",
      "    select top 1000000 ra, dec, phot_g_mean_mag, in_qso_candidates, in_galaxy_candidates, non_single_star, astrometric_excess_noise\n",
      "    FROM gaiadr3.gaia_source\n",
      "    WHERE 1 = CONTAINS(\n",
      "    POINT(40.61000072213061, -59.887512128635855),\n",
      "    CIRCLE(ra, dec, 2.970643848112104))\n",
      "    order by source_id\n",
      "    \n",
      "Queried. Saved.\n",
      "R = 3.253 | \n",
      "    select top 1000000 ra, dec, phot_g_mean_mag, in_qso_candidates, in_galaxy_candidates, non_single_star, astrometric_excess_noise\n",
      "    FROM gaiadr3.gaia_source\n",
      "    WHERE 1 = CONTAINS(\n",
      "    POINT(321.63726674557637, -43.23227424475044),\n",
      "    CIRCLE(ra, dec, 3.253305118428657))\n",
      "    order by source_id\n",
      "    \n"
     ]
    },
    {
     "name": "stderr",
     "output_type": "stream",
     "text": [
      "/home/shrihan/.conda/envs/weaklens2/lib/python3.10/site-packages/pyarrow/pandas_compat.py:373: FutureWarning: is_sparse is deprecated and will be removed in a future version. Check `isinstance(dtype, pd.SparseDtype)` instead.\n",
      "  if _pandas_api.is_sparse(col):\n"
     ]
    },
    {
     "name": "stdout",
     "output_type": "stream",
     "text": [
      "Queried. Saved.\n",
      "R = 2.167 | \n",
      "    select top 1000000 ra, dec, phot_g_mean_mag, in_qso_candidates, in_galaxy_candidates, non_single_star, astrometric_excess_noise\n",
      "    FROM gaiadr3.gaia_source\n",
      "    WHERE 1 = CONTAINS(\n",
      "    POINT(81.8946918115738, -25.22550347558047),\n",
      "    CIRCLE(ra, dec, 2.1674281096344767))\n",
      "    order by source_id\n",
      "    \n"
     ]
    },
    {
     "name": "stderr",
     "output_type": "stream",
     "text": [
      "/home/shrihan/.conda/envs/weaklens2/lib/python3.10/site-packages/pyarrow/pandas_compat.py:373: FutureWarning: is_sparse is deprecated and will be removed in a future version. Check `isinstance(dtype, pd.SparseDtype)` instead.\n",
      "  if _pandas_api.is_sparse(col):\n"
     ]
    },
    {
     "name": "stdout",
     "output_type": "stream",
     "text": [
      "Queried. Saved.\n"
     ]
    },
    {
     "name": "stderr",
     "output_type": "stream",
     "text": [
      "/home/shrihan/.conda/envs/weaklens2/lib/python3.10/site-packages/pyarrow/pandas_compat.py:373: FutureWarning: is_sparse is deprecated and will be removed in a future version. Check `isinstance(dtype, pd.SparseDtype)` instead.\n",
      "  if _pandas_api.is_sparse(col):\n"
     ]
    }
   ],
   "source": [
    "for cluster_num in range(3):\n",
    "    clust0_info = cluster_info.loc[cluster_num]\n",
    "    print(\"R = {:.3f}\".format(clust0_info[\"max_dist\"]), end = ' | ')\n",
    "    gaia0_tab = match.query_gaia_for_cluster(clust0_info[\"centroids\"][0], \n",
    "                                       clust0_info[\"centroids\"][1], \n",
    "                                       clust0_info[\"max_dist\"],\n",
    "                                       verbose=True)\n",
    "    print(\"Queried.\", end = ' ')\n",
    "    \n",
    "    # Save the gaia table in int_data\n",
    "    gaia0_tab.to_feather(INT_DATA_PATH + \"gaia/\" + \"gaia\" + str(cluster_num) + \".feather\")\n",
    "    print(\"Saved.\")"
   ]
  },
  {
   "cell_type": "code",
   "execution_count": null,
   "metadata": {},
   "outputs": [],
   "source": []
  }
 ],
 "metadata": {
  "kernelspec": {
   "display_name": "weaklens2",
   "language": "python",
   "name": "python3"
  },
  "language_info": {
   "codemirror_mode": {
    "name": "ipython",
    "version": 3
   },
   "file_extension": ".py",
   "mimetype": "text/x-python",
   "name": "python",
   "nbconvert_exporter": "python",
   "pygments_lexer": "ipython3",
   "version": "3.10.13"
  }
 },
 "nbformat": 4,
 "nbformat_minor": 2
}
